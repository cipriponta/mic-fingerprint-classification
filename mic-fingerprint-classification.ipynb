{
 "cells": [
  {
   "cell_type": "code",
   "execution_count": null,
   "metadata": {},
   "outputs": [],
   "source": [
    "import numpy\n",
    "import scipy\n",
    "import sklearn\n",
    "import pandas\n",
    "import matplotlib\n",
    "import os\n",
    "\n",
    "def get_list_of_dir_elements(path):\n",
    "    return list(os.popen('ls \"{0}\"'.format(path)).read().split())\n",
    "\n",
    "def get_dataframe(path):\n",
    "    return pandas.read_csv(path, \n",
    "                           header=None,\n",
    "                           #index_col=0,\n",
    "                           names=['Frequency', 'Amplitude'])\n",
    "\n",
    "def check_if_dataframes_are_equal(dataframe1, dataframe2):\n",
    "    return not(False in (dataframe1 == dataframe2).values)"
   ]
  },
  {
   "cell_type": "code",
   "execution_count": null,
   "metadata": {},
   "outputs": [],
   "source": [
    "SAMPLES_PATH = 'FFT_EXTRACTIONS/clean_recordings/live_recordings/horn_400_samples'\n",
    "phone_types = get_list_of_dir_elements(SAMPLES_PATH)\n",
    "samples_values_list = []\n",
    "i = 0\n",
    "\n",
    "for phone_type in phone_types:\n",
    "    print('Fetching the samples for {0}'.format(phone_type))\n",
    "    samples = get_list_of_dir_elements(SAMPLES_PATH + '/' + phone_type)\n",
    "    for sample in samples:\n",
    "        dataframe = get_dataframe(SAMPLES_PATH + '/' + phone_type + '/' + sample)\n",
    "        samples_values_list.append(dataframe['Amplitude'])\n",
    "\n",
    "fprints_dataframe = pandas.concat(samples_values_list, axis=1, ignore_index=True).transpose()\n",
    "print(fprints_dataframe)"
   ]
  }
 ],
 "metadata": {
  "kernelspec": {
   "display_name": ".venv",
   "language": "python",
   "name": "python3"
  },
  "language_info": {
   "codemirror_mode": {
    "name": "ipython",
    "version": 3
   },
   "file_extension": ".py",
   "mimetype": "text/x-python",
   "name": "python",
   "nbconvert_exporter": "python",
   "pygments_lexer": "ipython3",
   "version": "3.10.12"
  }
 },
 "nbformat": 4,
 "nbformat_minor": 2
}
