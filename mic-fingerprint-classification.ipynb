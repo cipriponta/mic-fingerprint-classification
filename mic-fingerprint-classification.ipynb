{
 "cells": [
  {
   "cell_type": "code",
   "execution_count": null,
   "metadata": {},
   "outputs": [],
   "source": [
    "import numpy\n",
    "import scipy\n",
    "import sklearn.model_selection\n",
    "import sklearn.naive_bayes\n",
    "import pandas\n",
    "import matplotlib\n",
    "import os\n",
    "\n",
    "def get_list_of_dir_elements(path):\n",
    "    return list(os.popen('ls \"{0}\"'.format(path)).read().split())\n",
    "\n",
    "def get_dataframe(path):\n",
    "    return pandas.read_csv(path, \n",
    "                           header=None,\n",
    "                           names=['Frequency', 'Amplitude'])\n",
    "\n",
    "def check_if_dataframes_are_equal(dataframe1, dataframe2):\n",
    "    return not(False in (dataframe1 == dataframe2).values)"
   ]
  },
  {
   "cell_type": "code",
   "execution_count": null,
   "metadata": {},
   "outputs": [],
   "source": [
    "SAMPLES_PATH = 'FFT_EXTRACTIONS/clean_recordings/live_recordings/horn_400_samples'\n",
    "phone_types = get_list_of_dir_elements(SAMPLES_PATH)\n",
    "dataset_list = []\n",
    "\n",
    "for phone_type_index in range(len(phone_types)):\n",
    "    phone_type = phone_types[phone_type_index]\n",
    "    print('Fetching the samples for {0}'.format(phone_type))\n",
    "    samples = get_list_of_dir_elements(SAMPLES_PATH + '/' + phone_type)\n",
    "    for sample in samples:\n",
    "        dataframe = get_dataframe(SAMPLES_PATH + '/' + phone_type + '/' + sample)\n",
    "        extracted_array = dataframe['Amplitude'].to_numpy()\n",
    "        dataset_list.append(numpy.append(dataframe['Amplitude'].to_numpy(), phone_type_index))\n",
    "\n",
    "dataset_array = numpy.array(dataset_list)"
   ]
  },
  {
   "cell_type": "code",
   "execution_count": null,
   "metadata": {},
   "outputs": [],
   "source": [
    "dataset_features = dataset_array[:,:-1]\n",
    "dataset_labels = dataset_array[:, -1]\n",
    "\n",
    "features_train, features_test, labels_train, labels_test = sklearn.model_selection.train_test_split(\n",
    "    dataset_features,\n",
    "    dataset_labels,\n",
    "    shuffle=True\n",
    ")"
   ]
  },
  {
   "cell_type": "code",
   "execution_count": null,
   "metadata": {},
   "outputs": [],
   "source": [
    "classifier = sklearn.naive_bayes.GaussianNB\n",
    "classifier.fit(features_train, labels_train) # TODO: Solve error"
   ]
  }
 ],
 "metadata": {
  "kernelspec": {
   "display_name": ".venv",
   "language": "python",
   "name": "python3"
  },
  "language_info": {
   "codemirror_mode": {
    "name": "ipython",
    "version": 3
   },
   "file_extension": ".py",
   "mimetype": "text/x-python",
   "name": "python",
   "nbconvert_exporter": "python",
   "pygments_lexer": "ipython3",
   "version": "3.10.12"
  }
 },
 "nbformat": 4,
 "nbformat_minor": 2
}
