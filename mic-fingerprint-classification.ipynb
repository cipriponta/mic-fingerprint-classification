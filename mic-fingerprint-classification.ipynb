{
 "cells": [
  {
   "cell_type": "code",
   "execution_count": null,
   "metadata": {},
   "outputs": [],
   "source": [
    "import numpy\n",
    "import sklearn.model_selection\n",
    "import sklearn.naive_bayes\n",
    "import sklearn.svm\n",
    "import pandas\n",
    "import os\n",
    "\n",
    "def get_list_of_dir_elements(path):\n",
    "    return list(os.popen('ls \"{0}\"'.format(path)).read().split())\n",
    "\n",
    "def get_dataframe(path):\n",
    "    return pandas.read_csv(path, \n",
    "                           header=None,\n",
    "                           names=['Frequency', 'Amplitude'])\n",
    "\n",
    "def check_if_dataframes_are_equal(dataframe1, dataframe2):\n",
    "    return not(False in (dataframe1 == dataframe2).values)\n",
    "\n",
    "def get_samples_paths():\n",
    "    return list(os.popen('ls -d FFT_EXTRACTIONS/*/*/*').read().split())\n",
    "\n",
    "def get_dataset(samples_path):\n",
    "    phone_types = get_list_of_dir_elements(samples_path)\n",
    "    dataset_list = []\n",
    "\n",
    "    for phone_type_index in range(len(phone_types)):\n",
    "        phone_type = phone_types[phone_type_index]\n",
    "        print('Fetching the samples for {0}'.format(phone_type))\n",
    "        samples = get_list_of_dir_elements(samples_path + '/' + phone_type)\n",
    "        for sample in samples:\n",
    "            dataframe = get_dataframe(samples_path + '/' + phone_type + '/' + sample)\n",
    "            extracted_array = dataframe['Amplitude'].to_numpy()\n",
    "            dataset_list.append(numpy.append(dataframe['Amplitude'].to_numpy(), phone_type_index))\n",
    "\n",
    "    return numpy.array(dataset_list)\n",
    "\n",
    "def apply_classifier(dataset_array, classifier_method):\n",
    "    dataset_features = dataset_array[:,:-1]\n",
    "    dataset_labels = dataset_array[:, -1]\n",
    "\n",
    "    features_train, features_test, labels_train, labels_test = sklearn.model_selection.train_test_split(\n",
    "        dataset_features,\n",
    "        dataset_labels,\n",
    "        shuffle=True\n",
    "    )\n",
    "\n",
    "    classifier = classifier_method()\n",
    "    classifier.fit(features_train, labels_train) \n",
    "    predicted_labels = classifier.predict(features_test)\n",
    "\n",
    "\n",
    "    unique, counts = numpy.unique((predicted_labels == labels_test), return_counts=True)\n",
    "    accuracy_dict = dict(zip(unique, counts))\n",
    "\n",
    "    if False in accuracy_dict.keys():\n",
    "        return accuracy_dict[True] / (accuracy_dict[True] + accuracy_dict[False])\n",
    "    else:\n",
    "        return 1.00\n",
    "    \n",
    "def apply_baise_naive_on_dataset(dataset_array):\n",
    "    return apply_classifier(dataset_array, sklearn.naive_bayes.GaussianNB)\n",
    "\n",
    "def apply_support_machine_vectors_on_dataset(dataset_array):\n",
    "    return apply_classifier(dataset_array, sklearn.svm.SVC)"
   ]
  },
  {
   "cell_type": "code",
   "execution_count": null,
   "metadata": {},
   "outputs": [],
   "source": [
    "# Get all the datasets\n",
    "samples_paths = get_samples_paths()\n",
    "all_datasets = dict()\n",
    "\n",
    "for path in samples_paths:\n",
    "    print('Fetching dataset for the current path: {0}'.format(path))\n",
    "    all_datasets[path] = get_dataset(path)"
   ]
  },
  {
   "cell_type": "code",
   "execution_count": null,
   "metadata": {},
   "outputs": [],
   "source": [
    "# Apply Bayes Naive on all the datasets\n",
    "print('Bayes Naive Implementation')\n",
    "for key, value in all_datasets.items():\n",
    "    print('{0} : {1}'.format(key, apply_baise_naive_on_dataset(value)))"
   ]
  },
  {
   "cell_type": "code",
   "execution_count": null,
   "metadata": {},
   "outputs": [],
   "source": [
    "# Apply Support Vector Machines on all the datasets\n",
    "print('Support Vector Machines Implementation')\n",
    "for key, value in all_datasets.items():\n",
    "    print('{0} : {1}'.format(key, apply_support_machine_vectors_on_dataset(value)))"
   ]
  }
 ],
 "metadata": {
  "kernelspec": {
   "display_name": ".venv",
   "language": "python",
   "name": "python3"
  },
  "language_info": {
   "codemirror_mode": {
    "name": "ipython",
    "version": 3
   },
   "file_extension": ".py",
   "mimetype": "text/x-python",
   "name": "python",
   "nbconvert_exporter": "python",
   "pygments_lexer": "ipython3",
   "version": "3.10.12"
  }
 },
 "nbformat": 4,
 "nbformat_minor": 2
}
